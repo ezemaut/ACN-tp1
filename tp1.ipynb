{
 "cells": [
  {
   "cell_type": "markdown",
   "id": "a3f43223",
   "metadata": {},
   "source": [
    "# Simulación de Arribos de Aviones a AEP\n",
    "\n",
    "Este notebook contiene la resolución de los problemas planteados sobre simulación de arribos de aviones mediante métodos de Monte Carlo.  \n",
    "Incluye experimentos con distintos valores de λ, análisis de congestión, desvíos y posibles políticas de control de tráfico aéreo.  \n",
    "\n",
    "---\n",
    "# Simulación de Arribos de Aviones a AEP\n",
    "\n",
    "Este notebook contiene la resolución de los problemas planteados sobre simulación de arribos de aviones mediante métodos de Monte Carlo.  \n",
    "Incluye experimentos con distintos valores de λ, análisis de congestión, desvíos y posibles políticas de control de tráfico aéreo.  \n",
    "\n",
    "---\n",
    "\n",
    "## 0. Setup de la simulación\n",
    "\n",
    "En esta sección se definen:  \n",
    "- Parámetros globales (velocidades, distancias, tiempos).  \n",
    "- Funciones auxiliares (generar arribos, simular dinámica, métricas, visualización).  \n",
    "- Una función principal `simular(...)` que permita correr la simulación variando λ y otras condiciones.  \n",
    "De este modo, el resto de las secciones solo necesitan llamar a estas funciones."
   ]
  },
  {
   "cell_type": "code",
   "execution_count": null,
   "id": "b5424ae8",
   "metadata": {},
   "outputs": [],
   "source": [
    "# ==========================\n",
    "# Imports y parámetros globales\n",
    "# ==========================\n",
    "import numpy as np\n",
    "import matplotlib.pyplot as plt\n",
    "import random\n",
    "\n",
    "# --------------------------\n",
    "# Parámetros básicos\n",
    "# --------------------------\n",
    "DISTANCIA_INICIAL = 100    # millas náuticas (mn) desde donde aparece el avión\n",
    "VEL_MAX = 250 / 60         # nudos → mn/min (ej: 250 nudos = 250/60 mn/min)\n",
    "VEL_MIN = 180 / 60         # nudos → mn/min\n",
    "TIEMPO_TOTAL = 24 * 60     # duración de la simulación en minutos (1 día)\n",
    "DT = 1                     # paso de simulación en minutos\n",
    "\n",
    "# Distancia mínima y gaps de seguridad\n",
    "SEPARACION_SEGURA = 5      # mn\n",
    "GAP_TIEMPO = 10            # minutos (mínimo entre arribos seguros)\n",
    "\n",
    "# Condiciones especiales\n",
    "PROB_INTERRUPCION = 0.1    # día ventoso: 10% de probabilidad\n",
    "CIERRE_TORMENTA = 30       # cierre en minutos\n",
    "MAX_ATRASO = 90            # minutos, luego se desvía a Montevideo\n"
   ]
  },
  {
   "cell_type": "code",
   "execution_count": null,
   "id": "8ca4007c",
   "metadata": {},
   "outputs": [],
   "source": [
    "# ==========================\n",
    "# Funciones auxiliares\n",
    "# ==========================\n",
    "\n",
    "def generar_arribos(lam, tiempo_total=TIEMPO_TOTAL, seed=None):\n",
    "    \"\"\"\n",
    "    Genera tiempos de arribo de aviones como proceso de Poisson.\n",
    "    \"\"\"\n",
    "    if seed is not None:\n",
    "        np.random.seed(seed)\n",
    "    \n",
    "    arribos = []\n",
    "    for t in range(tiempo_total):\n",
    "        if np.random.rand() < lam:\n",
    "            arribos.append(t)\n",
    "    return arribos"
   ]
  },
  {
   "cell_type": "code",
   "execution_count": null,
   "id": "d4f602d5",
   "metadata": {},
   "outputs": [],
   "source": [
    "def reinsertar_por_viento(arribo, ultimo_aterrizaje):\n",
    "    \"\"\"\n",
    "    Reinserta un avión que tuvo que abortar aterrizaje por viento.\n",
    "    Busca un hueco >= GAP_TIEMPO y a más de SEPARACION_SEGURA mn.\n",
    "    \n",
    "    Aquí simplificamos: el avión aborta y se reprograma su arribo\n",
    "    como si fuera +GAP_TIEMPO minutos después del último aterrizaje.\n",
    "    \"\"\"\n",
    "    nuevo_arribo = max(arribo, ultimo_aterrizaje + GAP_TIEMPO)\n",
    "    return nuevo_arribo\n"
   ]
  },
  {
   "cell_type": "code",
   "execution_count": null,
   "id": "2195b377",
   "metadata": {},
   "outputs": [],
   "source": [
    "def simular_dinamica(arribos, condiciones=None):\n",
    "    \"\"\"\n",
    "    Simula la dinámica de aviones desde arribo hasta aterrizaje o desvío.\n",
    "    \n",
    "    condiciones (dict):\n",
    "        {\"viento\": True, \"tormenta\": (inicio, fin)}\n",
    "    \"\"\"\n",
    "    resultados = {\n",
    "        \"aterrizados\": 0,\n",
    "        \"desviados\": 0,\n",
    "        \"atrasos\": [],\n",
    "        \"congestion\": 0,\n",
    "        \"trayectorias\": []\n",
    "    }\n",
    "    \n",
    "    ultimo_aterrizaje = -np.inf\n",
    "    \n",
    "    for arribo in arribos:\n",
    "        atraso = 0\n",
    "        desviado = False\n",
    "        arribo_real = arribo\n",
    "        \n",
    "        # --------------------------\n",
    "        # Tormenta (cierre de AEP)\n",
    "        # --------------------------\n",
    "        if condiciones and condiciones.get(\"tormenta\"):\n",
    "            t_ini, t_fin = condiciones[\"tormenta\"]\n",
    "            if t_ini <= arribo <= t_fin:\n",
    "                # el avión debe esperar hasta reapertura\n",
    "                atraso += (t_fin - arribo)\n",
    "                arribo_real = t_fin\n",
    "        \n",
    "        # --------------------------\n",
    "        # Día ventoso (interrupción)\n",
    "        # --------------------------\n",
    "        if condiciones and condiciones.get(\"viento\"):\n",
    "            if random.random() < PROB_INTERRUPCION:\n",
    "                arribo_real = reinsertar_por_viento(arribo_real, ultimo_aterrizaje)\n",
    "                atraso = arribo_real - arribo\n",
    "        \n",
    "        # --------------------------\n",
    "        # Chequear separación mínima\n",
    "        # --------------------------\n",
    "        if arribo_real < ultimo_aterrizaje + GAP_TIEMPO:\n",
    "            # congestión: esperar hasta que haya espacio\n",
    "            atraso = (ultimo_aterrizaje + GAP_TIEMPO) - arribo\n",
    "            arribo_real = ultimo_aterrizaje + GAP_TIEMPO\n",
    "            resultados[\"congestion\"] += 1\n",
    "        \n",
    "        # --------------------------\n",
    "        # Desvío si atraso demasiado grande\n",
    "        # --------------------------\n",
    "        if atraso > MAX_ATRASO:\n",
    "            resultados[\"desviados\"] += 1\n",
    "            desviado = True\n",
    "        else:\n",
    "            resultados[\"aterrizados\"] += 1\n",
    "            ultimo_aterrizaje = arribo_real\n",
    "        \n",
    "        # --------------------------\n",
    "        # Guardar datos del avión\n",
    "        # --------------------------\n",
    "        resultados[\"atrasos\"].append(atraso)\n",
    "        resultados[\"trayectorias\"].append({\n",
    "            \"arribo\": arribo,\n",
    "            \"arribo_real\": arribo_real,\n",
    "            \"atraso\": atraso,\n",
    "            \"desviado\": desviado\n",
    "        })\n",
    "    \n",
    "    return resultados\n"
   ]
  },
  {
   "cell_type": "code",
   "execution_count": null,
   "id": "4a693c15",
   "metadata": {},
   "outputs": [],
   "source": [
    "def calcular_metricas(resultados):\n",
    "    \"\"\"\n",
    "    Calcula métricas clave de performance.\n",
    "    \"\"\"\n",
    "    atrasos = np.array(resultados[\"atrasos\"])\n",
    "    return {\n",
    "        \"promedio_atraso\": np.mean(atrasos) if len(atrasos) else 0,\n",
    "        \"desviados\": resultados[\"desviados\"],\n",
    "        \"prob_desvio\": resultados[\"desviados\"] / (len(atrasos) if len(atrasos) else 1),\n",
    "        \"frecuencia_congestion\": resultados[\"congestion\"] / (len(atrasos) if len(atrasos) else 1)\n",
    "    }\n"
   ]
  },
  {
   "cell_type": "code",
   "execution_count": null,
   "id": "56247c2c",
   "metadata": {},
   "outputs": [],
   "source": [
    "def visualizar(resultados, n=30):\n",
    "    \"\"\"\n",
    "    Visualiza arribos vs aterrizajes reales (o desvíos).\n",
    "    \"\"\"\n",
    "    tray = resultados[\"trayectorias\"][:n]\n",
    "    arribos = [t[\"arribo\"] for t in tray]\n",
    "    aterrizajes = [t[\"arribo_real\"] for t in tray]\n",
    "    colores = [\"red\" if t[\"desviado\"] else \"green\" for t in tray]\n",
    "    \n",
    "    plt.figure(figsize=(10, 5))\n",
    "    plt.scatter(arribos, range(len(arribos)), label=\"Arribos\", marker=\"o\", c=\"blue\")\n",
    "    plt.scatter(aterrizajes, range(len(aterrizajes)), label=\"Aterrizajes/Desvíos\", marker=\"x\", c=colores)\n",
    "    plt.xlabel(\"Tiempo (min)\")\n",
    "    plt.ylabel(\"Aviones (orden de llegada)\")\n",
    "    plt.title(\"Simulación de arribos y aterrizajes con condiciones especiales\")\n",
    "    plt.legend()\n",
    "    plt.show()\n"
   ]
  },
  {
   "cell_type": "code",
   "execution_count": null,
   "id": "a5f33037",
   "metadata": {},
   "outputs": [],
   "source": [
    "# ==========================\n",
    "# Función principal\n",
    "# ==========================\n",
    "def simular(lam, tiempo_total=TIEMPO_TOTAL, condiciones=None, seed=None):\n",
    "    \"\"\"\n",
    "    Función de alto nivel para correr simulaciones.\n",
    "    \"\"\"\n",
    "    arribos = generar_arribos(lam, tiempo_total, seed)\n",
    "    resultados = simular_dinamica(arribos, condiciones)\n",
    "    metricas = calcular_metricas(resultados)\n",
    "    return {\n",
    "        \"arribos\": arribos,\n",
    "        \"resultados\": resultados,\n",
    "        \"metricas\": metricas\n",
    "    }\n"
   ]
  },
  {
   "cell_type": "markdown",
   "id": "6e903b0d",
   "metadata": {},
   "source": [
    "\n",
    "## 1. Simulación de Monte Carlo básica de la fila de aviones\n",
    "\n",
    "Implementar una simulación que modele la posición de cada avión en el tiempo y en el espacio, junto con un mecanismo de visualización."
   ]
  },
  {
   "cell_type": "code",
   "execution_count": null,
   "id": "07e4576c",
   "metadata": {},
   "outputs": [],
   "source": [
    "# Código: simulación base de arribos y posiciones de los aviones\n"
   ]
  },
  {
   "cell_type": "code",
   "execution_count": null,
   "id": "db1a96ef",
   "metadata": {},
   "outputs": [],
   "source": [
    "# Código: visualización de la cola de aviones en el tiempo/espacio\n"
   ]
  },
  {
   "cell_type": "markdown",
   "id": "e66ab616",
   "metadata": {},
   "source": [
    "## 2. Cálculo de λ para 1 avión por hora\n",
    "\n",
    "Si el promedio de arribos es de 1 avión por hora, determinar el valor de λ.\n"
   ]
  },
  {
   "cell_type": "code",
   "execution_count": null,
   "id": "701202c0",
   "metadata": {},
   "outputs": [],
   "source": [
    "# Código: cálculo de λ\n"
   ]
  },
  {
   "cell_type": "markdown",
   "id": "58d972d5",
   "metadata": {},
   "source": [
    "## 3. Probabilidad de llegada de 5 aviones en una hora\n",
    "\n",
    "- Usar simulación de Monte Carlo para estimar la probabilidad.  \n",
    "- Verificar el resultado de manera analítica con la distribución de Poisson.\n"
   ]
  },
  {
   "cell_type": "code",
   "execution_count": null,
   "id": "939e11e1",
   "metadata": {},
   "outputs": [],
   "source": [
    "# Código: simulación para estimar probabilidad\n"
   ]
  },
  {
   "cell_type": "code",
   "execution_count": null,
   "id": "cb403a53",
   "metadata": {},
   "outputs": [],
   "source": [
    "# Código: verificación analítica usando Poisson\n"
   ]
  },
  {
   "cell_type": "markdown",
   "id": "9a013330",
   "metadata": {},
   "source": [
    "## 4. Congestión según distintos λ\n",
    "\n",
    "Simular el sistema con λ ∈ {0.02, 0.1, 0.2, 0.5, 1}.  \n",
    "Analizar:\n",
    "- Frecuencia de congestión.  \n",
    "- Atraso promedio de los aviones.  \n",
    "- Frecuencia de desvíos a Montevideo.  \n",
    "- Acompañar cada resultado con estimación de error.  \n",
    "- Mostrar visualizaciones gráficas.\n"
   ]
  },
  {
   "cell_type": "code",
   "execution_count": null,
   "id": "97f2f1d1",
   "metadata": {},
   "outputs": [],
   "source": [
    "# Código: simulación para distintos λ\n"
   ]
  },
  {
   "cell_type": "code",
   "execution_count": null,
   "id": "64305046",
   "metadata": {},
   "outputs": [],
   "source": [
    "# Código: métricas de congestión y atrasos\n"
   ]
  },
  {
   "cell_type": "code",
   "execution_count": null,
   "id": "cc17faaa",
   "metadata": {},
   "outputs": [],
   "source": [
    "# Código: visualización comparativa\n"
   ]
  },
  {
   "cell_type": "markdown",
   "id": "5225dbc9",
   "metadata": {},
   "source": [
    "## 5. Escenario con día ventoso\n",
    "\n",
    "Cada avión tiene 1/10 de probabilidad de tener que interrumpir su aterrizaje.  \n",
    "Se debe simular:\n",
    "- Estadísticas de atrasos en función de λ.  \n",
    "- Desvíos a Montevideo.  \n",
    "- Visualización de aviones (incluyendo los que se desvían).  \n",
    "- Estimación de errores.\n"
   ]
  },
  {
   "cell_type": "code",
   "execution_count": null,
   "id": "a1ceef48",
   "metadata": {},
   "outputs": [],
   "source": [
    "# Código: simulación con interrupciones (día ventoso)\n"
   ]
  },
  {
   "cell_type": "code",
   "execution_count": null,
   "id": "35501461",
   "metadata": {},
   "outputs": [],
   "source": [
    "# Código: métricas de performance bajo viento\n"
   ]
  },
  {
   "cell_type": "code",
   "execution_count": null,
   "id": "3a94aeab",
   "metadata": {},
   "outputs": [],
   "source": [
    "# Código: visualización de interrupciones y desvíos\n"
   ]
  },
  {
   "cell_type": "markdown",
   "id": "4958b463",
   "metadata": {},
   "source": [
    "## 6. Escenario con tormenta\n",
    "\n",
    "Si AEP cierra sorpresivamente por 30 minutos:  \n",
    "- Calcular consecuencias en desvíos, atrasos y otras métricas en función de λ.  \n",
    "- Comparar con escenarios normales.\n"
   ]
  },
  {
   "cell_type": "code",
   "execution_count": null,
   "id": "20a5e727",
   "metadata": {},
   "outputs": [],
   "source": [
    "# Código: simulación con cierre sorpresivo\n"
   ]
  },
  {
   "cell_type": "code",
   "execution_count": null,
   "id": "f546222e",
   "metadata": {},
   "outputs": [],
   "source": [
    "# Código: métricas y comparación con caso base\n"
   ]
  },
  {
   "cell_type": "markdown",
   "id": "10843b60",
   "metadata": {},
   "source": [
    "## 7. Políticas de vuelo alternativas\n",
    "\n",
    "Explorar políticas simples basadas en información contemporánea (posiciones y velocidades actuales) para:  \n",
    "- Reducir atrasos.  \n",
    "- Disminuir o eliminar desvíos a Montevideo.  \n",
    "- Analizar trade-off entre atraso promedio y frecuencia de desvíos.\n"
   ]
  },
  {
   "cell_type": "code",
   "execution_count": null,
   "id": "4e464501",
   "metadata": {},
   "outputs": [],
   "source": [
    "# Código: implementación de políticas alternativas\n"
   ]
  },
  {
   "cell_type": "code",
   "execution_count": null,
   "id": "ddef0c3d",
   "metadata": {},
   "outputs": [],
   "source": [
    "# Código: evaluación de performance bajo políticas alternativas\n"
   ]
  },
  {
   "cell_type": "markdown",
   "id": "f73bcaac",
   "metadata": {},
   "source": [
    "## 8. Conclusiones\n",
    "\n",
    "- Resumen de los principales hallazgos.  \n",
    "- Comparación entre distintos escenarios de λ, viento y tormenta.  \n",
    "- Discusión sobre posibles mejoras de políticas de control aéreo.\n"
   ]
  },
  {
   "cell_type": "code",
   "execution_count": null,
   "id": "7576da48",
   "metadata": {},
   "outputs": [],
   "source": [
    "# (Opcional) Gráficos finales comparativos / resumen visual\n"
   ]
  }
 ],
 "metadata": {
  "kernelspec": {
   "display_name": "TD6",
   "language": "python",
   "name": "python3"
  },
  "language_info": {
   "name": "python",
   "version": "3.11.9"
  }
 },
 "nbformat": 4,
 "nbformat_minor": 5
}
